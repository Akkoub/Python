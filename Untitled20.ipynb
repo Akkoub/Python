{
 "cells": [
  {
   "cell_type": "code",
   "execution_count": 2,
   "metadata": {
    "collapsed": false
   },
   "outputs": [
    {
     "name": "stdout",
     "output_type": "stream",
     "text": [
      "The total word count is: 8\n",
      "الولد <-- ذهب\n",
      "الى <-- الولد\n",
      "المدرسة <-- الى\n",
      "الولد <-- المدرسة\n",
      "الى يدرس <-- الولد\n",
      "في <-- يدرس\n",
      "المدرسة <-- في\n",
      "المدرسة\n"
     ]
    }
   ],
   "source": [
    "import collections\n",
    "Dict = {}\n",
    "\n",
    "with open('TestCrawler.txt', 'r') as f:\n",
    "        for line in f:\n",
    "            \n",
    "           \n",
    "            key = line.split()\n",
    "            \n",
    "            wordCount = len(key)\n",
    "            NewWordCount =  wordCount -1 #because its start from zero\n",
    "            print \"The total word count is:\", wordCount\n",
    "            \n",
    "            s=0\n",
    "        for i in key:\n",
    "            \n",
    "            \n",
    "            \n",
    "            if s == NewWordCount:\n",
    "                Dict[key[s]]\n",
    "                print key[s]\n",
    "                \n",
    "               \n",
    "                    \n",
    "            elif s < wordCount:\n",
    "                \n",
    "                if key[s] in Dict.keys():\n",
    "                        Index = Dict.keys().index(key[s]) \n",
    "                        \n",
    "                        if s+1 <wordCount:\n",
    "                                Dict[key[Index]] += ' ' + key[s+1]\n",
    "                                print Dict[key[Index]] ,'<--', key[s]\n",
    "                                \n",
    "                 \n",
    "                else:\n",
    "                    Dict[key[s]]=key[s+1]\n",
    "                    print Dict[key[s]] ,'<--', key[s]\n",
    "              \n",
    "            \n",
    "                    \n",
    "            else :\n",
    "                print 'finish'\n",
    "                break\n",
    "            s=s+1\n",
    "            #Index = Dict.keys().index('key[s]')\n",
    "       \n",
    "       \n",
    "           "
   ]
  },
  {
   "cell_type": "code",
   "execution_count": 10,
   "metadata": {
    "collapsed": false
   },
   "outputs": [
    {
     "name": "stdout",
     "output_type": "stream",
     "text": [
      "الولد\n",
      "ذهب\n",
      "الى\n",
      "يدرس\n",
      "في\n",
      "المدرسة\n"
     ]
    }
   ],
   "source": [
    "for key in Dict: print key"
   ]
  },
  {
   "cell_type": "code",
   "execution_count": 2,
   "metadata": {
    "collapsed": false
   },
   "outputs": [
    {
     "name": "stdout",
     "output_type": "stream",
     "text": [
      "الولد > الى يدرس\n",
      "ذهب > الولد\n",
      "الى > المدرسة\n",
      "يدرس > في\n",
      "في > المدرسة\n",
      "المدرسة > الولد\n"
     ]
    }
   ],
   "source": [
    " for k, v in Dict.items(): print v , '>', k"
   ]
  },
  {
   "cell_type": "code",
   "execution_count": 14,
   "metadata": {
    "collapsed": false
   },
   "outputs": [
    {
     "name": "stdout",
     "output_type": "stream",
     "text": [
      "الولد الى يدرس\n",
      "ذهب الولد\n",
      "الى المدرسة\n",
      "يدرس في\n",
      "في المدرسة\n",
      "المدرسة الولد\n"
     ]
    }
   ],
   "source": [
    "for key , value in Dict.iteritems() :\n",
    "    print key, value"
   ]
  },
  {
   "cell_type": "code",
   "execution_count": null,
   "metadata": {
    "collapsed": true
   },
   "outputs": [],
   "source": []
  }
 ],
 "metadata": {
  "kernelspec": {
   "display_name": "Python 2",
   "language": "python",
   "name": "python2"
  },
  "language_info": {
   "codemirror_mode": {
    "name": "ipython",
    "version": 2
   },
   "file_extension": ".py",
   "mimetype": "text/x-python",
   "name": "python",
   "nbconvert_exporter": "python",
   "pygments_lexer": "ipython2",
   "version": "2.7.11"
  }
 },
 "nbformat": 4,
 "nbformat_minor": 0
}
